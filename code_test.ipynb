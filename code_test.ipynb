{
 "cells": [
  {
   "cell_type": "code",
   "execution_count": 1,
   "id": "9c5a15f8",
   "metadata": {
    "execution": {
     "iopub.execute_input": "2024-07-20T05:34:58.855120Z",
     "iopub.status.busy": "2024-07-20T05:34:58.854318Z",
     "iopub.status.idle": "2024-07-20T05:35:13.611946Z",
     "shell.execute_reply": "2024-07-20T05:35:13.610983Z"
    },
    "papermill": {
     "duration": 14.86212,
     "end_time": "2024-07-20T05:35:13.614337",
     "exception": false,
     "start_time": "2024-07-20T05:34:58.752217",
     "status": "completed"
    },
    "tags": []
   },
   "outputs": [],
   "source": [
    "import tensorflow as tf\n",
    "import os\n",
    "import glob\n",
    "import cv2\n",
    "import shutil\n",
    "# import torchaudio\n",
    "import numpy as np\n",
    "import torch\n",
    "import matplotlib.pyplot as plt\n",
    "from sklearn.metrics import accuracy_score, precision_score, recall_score, f1_score\n",
    "from tensorflow.keras.layers import *\n",
    "from keras.models import Model\n",
    "from tensorflow.keras.models import load_model\n",
    "from tensorflow.keras.utils import to_categorical, plot_model\n",
    "from tensorflow.keras.optimizers import Adam\n",
    "# import autokeras as ak\n",
    "from keras.models import save_model\n",
    "from moviepy.video.io.VideoFileClip import VideoFileClip\n",
    "import librosa\n",
    "from sklearn.model_selection import train_test_split\n",
    "import h5py\n",
    "import shutil"
   ]
  },
  {
   "cell_type": "code",
   "execution_count": 2,
   "id": "8e084a69",
   "metadata": {
    "execution": {
     "iopub.execute_input": "2024-07-20T05:35:14.023866Z",
     "iopub.status.busy": "2024-07-20T05:35:14.022779Z",
     "iopub.status.idle": "2024-07-20T05:35:14.027774Z",
     "shell.execute_reply": "2024-07-20T05:35:14.026899Z"
    },
    "papermill": {
     "duration": 0.10924,
     "end_time": "2024-07-20T05:35:14.029833",
     "exception": false,
     "start_time": "2024-07-20T05:35:13.920593",
     "status": "completed"
    },
    "tags": []
   },
   "outputs": [],
   "source": [
    "source_dir_real = '/kaggle/input/celeb-df-v2/Celeb-real'\n",
    "source_dir_fake = '/kaggle/input/celeb-df-v2/Celeb-synthesis'\n",
    "destination_dir_real = '/dataset/Real'\n",
    "destination_dir_fake = '/dataset/Fake'\n",
    "dataset_root = '/dataset'"
   ]
  },
  {
   "cell_type": "code",
   "execution_count": 3,
   "id": "1e045203",
   "metadata": {
    "execution": {
     "iopub.execute_input": "2024-07-20T05:35:30.063221Z",
     "iopub.status.busy": "2024-07-20T05:35:30.062861Z",
     "iopub.status.idle": "2024-07-20T05:35:30.070377Z",
     "shell.execute_reply": "2024-07-20T05:35:30.069487Z"
    },
    "papermill": {
     "duration": 0.116197,
     "end_time": "2024-07-20T05:35:30.072366",
     "exception": false,
     "start_time": "2024-07-20T05:35:29.956169",
     "status": "completed"
    },
    "tags": []
   },
   "outputs": [],
   "source": [
    "def multimodal_fusion(images, num_modalities):\n",
    "    num_samples, num_frames, height, width, channels = images.shape\n",
    "\n",
    "    # Create additional modalities by converting images to grayscale\n",
    "    additional_modalities = []\n",
    "    for i in range(1, num_modalities):\n",
    "        modified_images = []\n",
    "        for frame in range(num_frames):\n",
    "            grayscale_frame = np.mean(images[:, frame], axis=-1, keepdims=True)\n",
    "            modified_images.append(grayscale_frame)\n",
    "        additional_modalities.append(np.array(modified_images))\n",
    "\n",
    "    # Tile the additional modalities to match the number of frames\n",
    "    tiled_modalities = [modalities[:, np.newaxis] for modalities in additional_modalities]\n",
    "    tiled_modalities = [np.tile(modalities, (1, num_frames, 1, 1, 1)) for modalities in tiled_modalities]\n",
    "\n",
    "    # Concatenate the original images and additional modalities along the channel axis\n",
    "    fused_data = np.concatenate((images, *tiled_modalities), axis=-1)\n",
    "    return fused_data"
   ]
  },
  {
   "cell_type": "code",
   "execution_count": 4,
   "id": "60d48fff",
   "metadata": {
    "execution": {
     "iopub.execute_input": "2024-07-20T05:35:30.492822Z",
     "iopub.status.busy": "2024-07-20T05:35:30.492129Z",
     "iopub.status.idle": "2024-07-20T05:35:30.514484Z",
     "shell.execute_reply": "2024-07-20T05:35:30.513440Z"
    },
    "papermill": {
     "duration": 0.131272,
     "end_time": "2024-07-20T05:35:30.516506",
     "exception": false,
     "start_time": "2024-07-20T05:35:30.385234",
     "status": "completed"
    },
    "tags": []
   },
   "outputs": [
    {
     "name": "stdout",
     "output_type": "stream",
     "text": [
      "Fused batch X_train shape: (40, 10, 64, 64, 3)\n",
      "Fused batch X_train shape: (40, 10, 64, 64, 3)\n",
      "Fused batch X_train shape: (40, 10, 64, 64, 3)\n",
      "Fused batch X_train shape: (40, 10, 64, 64, 3)\n"
     ]
    }
   ],
   "source": [
    "batch_size = 40\n",
    "num_modalities = 1 #Add GrayScale with RGB modality\n",
    "\n",
    "# Load the data from the HDF5 file\n",
    "h5_file = h5py.File('data.h5', 'r')\n",
    "num_samples = len(h5_file['X_images_train'])\n",
    "y_train = h5_file['y_train'][:]\n",
    "\n",
    "multimodal_data = []\n",
    "\n",
    "for batch_start in range(0, num_samples, batch_size):\n",
    "    batch_end = min(batch_start + batch_size, num_samples)\n",
    "    batch_X_images_train = h5_file['X_images_train'][batch_start:batch_end]\n",
    "    #batch_X_images_test = h5_file['X_images_test'][batch_start:batch_end]\n",
    "\n",
    "    # Perform multimodal fusion on the current batch\n",
    "    fused_batch_X_train = multimodal_fusion(batch_X_images_train, num_modalities)\n",
    "    #fused_batch_X_test = multimodal_fusion(batch_X_images_test, num_modalities)\n",
    "    multimodal_data.append(fused_batch_X_train)\n",
    "    print(\"Fused batch X_train shape:\", fused_batch_X_train.shape)\n",
    "    #print(\"Fused batch X_test shape:\", fused_batch_X_test.shape)\n",
    "\n",
    "h5_file.close()"
   ]
  },
  {
   "cell_type": "code",
   "execution_count": 5,
   "id": "3a78f7da",
   "metadata": {
    "execution": {
     "iopub.execute_input": "2024-07-20T05:35:30.942534Z",
     "iopub.status.busy": "2024-07-20T05:35:30.941475Z",
     "iopub.status.idle": "2024-07-20T06:08:41.543603Z",
     "shell.execute_reply": "2024-07-20T06:08:41.542834Z"
    },
    "papermill": {
     "duration": 1990.711202,
     "end_time": "2024-07-20T06:08:41.545913",
     "exception": false,
     "start_time": "2024-07-20T05:35:30.834711",
     "status": "completed"
    },
    "tags": []
   },
   "outputs": [
    {
     "name": "stdout",
     "output_type": "stream",
     "text": [
      "reshaped_X_train shape: (1600, 64, 64, 3)\n",
      "reshaped_y_train shape: (1600,)\n"
     ]
    }
   ],
   "source": [
    "# Stack the multimodal data\n",
    "fused_X_train = np.vstack(multimodal_data)\n",
    "\n",
    "# Get the dimensions from the shape of fused_X_train\n",
    "num_samples, num_frames, height, width, channels = fused_X_train.shape\n",
    "\n",
    "# Reshape the data to match AutoKeras expected format\n",
    "reshaped_X_train = fused_X_train.reshape((-1, height, width, channels))\n",
    "\n",
    "# Reshape again to treat each frame as a separate sample\n",
    "reshaped_X_train = reshaped_X_train.reshape((-1, height, width, channels))\n",
    "\n",
    "# Reshape y_train to match the new number of samples\n",
    "reshaped_y_train = np.repeat(y_train, num_frames, axis=0)\n",
    "\n",
    "print(\"reshaped_X_train shape:\", reshaped_X_train.shape)\n",
    "print(\"reshaped_y_train shape:\", reshaped_y_train.shape)\n",
    "\n",
    "X_train, X_val, y_train, y_val = train_test_split(reshaped_X_train, reshaped_y_train, test_size=0.2, random_state=42)"
   ]
  },
  {
   "cell_type": "markdown",
   "id": "81d4059d",
   "metadata": {
    "papermill": {
     "duration": 0.121844,
     "end_time": "2024-07-20T06:08:41.790982",
     "exception": false,
     "start_time": "2024-07-20T06:08:41.669138",
     "status": "completed"
    },
    "tags": []
   },
   "source": [
    "**Save the best fit model and explore it**"
   ]
  },
  {
   "cell_type": "code",
   "execution_count": 6,
   "id": "d16634b4",
   "metadata": {},
   "outputs": [
    {
     "name": "stdout",
     "output_type": "stream",
     "text": [
      "Model: \"model\"\n",
      "_________________________________________________________________\n",
      " Layer (type)                Output Shape              Param #   \n",
      "=================================================================\n",
      " input_1 (InputLayer)        [(None, 64, 64, 3)]       0         \n",
      "                                                                 \n",
      " lambda (Lambda)             (None, 64, 64, 3)         0         \n",
      "                                                                 \n",
      " normalization (Normalizatio  (None, 64, 64, 3)        7         \n",
      " n)                                                              \n",
      "                                                                 \n",
      " conv2d (Conv2D)             (None, 62, 62, 32)        896       \n",
      "                                                                 \n",
      " conv2d_1 (Conv2D)           (None, 60, 60, 64)        18496     \n",
      "                                                                 \n",
      " max_pooling2d (MaxPooling2D  (None, 30, 30, 64)       0         \n",
      " )                                                               \n",
      "                                                                 \n",
      " dropout (Dropout)           (None, 30, 30, 64)        0         \n",
      "                                                                 \n",
      " flatten (Flatten)           (None, 57600)             0         \n",
      "                                                                 \n",
      " dropout_1 (Dropout)         (None, 57600)             0         \n",
      "                                                                 \n",
      " dense (Dense)               (None, 1)                 57601     \n",
      "                                                                 \n",
      " activation (Activation)     (None, 1)                 0         \n",
      "                                                                 \n",
      "=================================================================\n",
      "Total params: 77,000\n",
      "Trainable params: 76,993\n",
      "Non-trainable params: 7\n",
      "_________________________________________________________________\n"
     ]
    }
   ],
   "source": [
    "import tensorflow as tf\n",
    "from tensorflow.keras import layers, models\n",
    "\n",
    "\n",
    "model = models.Sequential()\n",
    "input_layer = tf.keras.Input(shape=(64, 64, 3))\n",
    "cast_to_float32 = layers.Lambda(lambda x: tf.cast(x, tf.float32))(input_layer)\n",
    "normalization = layers.Normalization()(cast_to_float32)\n",
    "conv2d = layers.Conv2D(32, (3, 3), activation='relu')(normalization)\n",
    "conv2d_1 = layers.Conv2D(64, (3, 3), activation='relu')(conv2d)\n",
    "max_pooling2d = layers.MaxPooling2D((2, 2))(conv2d_1)\n",
    "dropout = layers.Dropout(0.5)(max_pooling2d)\n",
    "flatten = layers.Flatten()(dropout)\n",
    "dropout_1 = layers.Dropout(0.5)(flatten)\n",
    "dense = layers.Dense(1)(dropout_1)\n",
    "classification_head_1 = layers.Activation('sigmoid')(dense)\n",
    "model = tf.keras.Model(inputs=input_layer, outputs=classification_head_1)\n",
    "model.summary()"
   ]
  },
  {
   "cell_type": "code",
   "execution_count": 7,
   "id": "75d40a51",
   "metadata": {
    "execution": {
     "iopub.execute_input": "2024-07-20T06:08:43.050057Z",
     "iopub.status.busy": "2024-07-20T06:08:43.049226Z",
     "iopub.status.idle": "2024-07-20T06:11:20.275781Z",
     "shell.execute_reply": "2024-07-20T06:11:20.274921Z"
    },
    "papermill": {
     "duration": 157.357668,
     "end_time": "2024-07-20T06:11:20.277719",
     "exception": false,
     "start_time": "2024-07-20T06:08:42.920051",
     "status": "completed"
    },
    "tags": []
   },
   "outputs": [
    {
     "name": "stdout",
     "output_type": "stream",
     "text": [
      "Epoch 1/20\n",
      "32/32 [==============================] - 5s 23ms/step - loss: 4.4932 - accuracy: 0.6826 - val_loss: 0.3487 - val_accuracy: 0.8633\n",
      "Epoch 2/20\n",
      "32/32 [==============================] - 0s 14ms/step - loss: 0.3648 - accuracy: 0.8652 - val_loss: 0.1928 - val_accuracy: 0.9297\n",
      "Epoch 3/20\n",
      "32/32 [==============================] - 0s 14ms/step - loss: 0.2345 - accuracy: 0.9150 - val_loss: 0.1642 - val_accuracy: 0.9180\n",
      "Epoch 4/20\n",
      "32/32 [==============================] - 0s 13ms/step - loss: 0.1932 - accuracy: 0.9229 - val_loss: 0.1648 - val_accuracy: 0.8945\n",
      "Epoch 5/20\n",
      "32/32 [==============================] - 0s 13ms/step - loss: 0.1974 - accuracy: 0.9229 - val_loss: 0.1685 - val_accuracy: 0.9180\n",
      "Epoch 6/20\n",
      "32/32 [==============================] - 0s 13ms/step - loss: 0.1860 - accuracy: 0.9355 - val_loss: 0.1531 - val_accuracy: 0.9141\n",
      "Epoch 7/20\n",
      "32/32 [==============================] - 0s 13ms/step - loss: 0.2003 - accuracy: 0.9287 - val_loss: 0.1173 - val_accuracy: 0.9336\n",
      "Epoch 8/20\n",
      "32/32 [==============================] - 1s 16ms/step - loss: 0.1898 - accuracy: 0.9365 - val_loss: 0.1790 - val_accuracy: 0.9141\n",
      "Epoch 9/20\n",
      "32/32 [==============================] - 0s 13ms/step - loss: 0.1744 - accuracy: 0.9443 - val_loss: 0.1765 - val_accuracy: 0.8984\n",
      "Epoch 10/20\n",
      "32/32 [==============================] - 0s 14ms/step - loss: 0.1896 - accuracy: 0.9277 - val_loss: 0.1574 - val_accuracy: 0.9297\n",
      "Epoch 11/20\n",
      "32/32 [==============================] - 0s 15ms/step - loss: 0.1530 - accuracy: 0.9463 - val_loss: 0.1714 - val_accuracy: 0.9141\n",
      "Epoch 12/20\n",
      "32/32 [==============================] - 0s 14ms/step - loss: 0.1294 - accuracy: 0.9463 - val_loss: 0.1493 - val_accuracy: 0.9141\n",
      "Epoch 13/20\n",
      "32/32 [==============================] - 0s 14ms/step - loss: 0.1461 - accuracy: 0.9385 - val_loss: 0.1233 - val_accuracy: 0.9336\n",
      "Epoch 14/20\n",
      "32/32 [==============================] - 0s 15ms/step - loss: 0.1333 - accuracy: 0.9492 - val_loss: 0.1407 - val_accuracy: 0.9336\n",
      "Epoch 15/20\n",
      "32/32 [==============================] - 0s 14ms/step - loss: 0.1396 - accuracy: 0.9463 - val_loss: 0.1202 - val_accuracy: 0.9414\n",
      "Epoch 16/20\n",
      "32/32 [==============================] - 0s 14ms/step - loss: 0.1237 - accuracy: 0.9492 - val_loss: 0.1312 - val_accuracy: 0.9375\n",
      "Epoch 17/20\n",
      "32/32 [==============================] - 0s 14ms/step - loss: 0.1370 - accuracy: 0.9443 - val_loss: 0.1359 - val_accuracy: 0.9258\n",
      "Epoch 18/20\n",
      "32/32 [==============================] - 0s 14ms/step - loss: 0.1339 - accuracy: 0.9414 - val_loss: 0.1485 - val_accuracy: 0.9375\n",
      "Epoch 19/20\n",
      "32/32 [==============================] - 0s 13ms/step - loss: 0.1323 - accuracy: 0.9551 - val_loss: 0.1272 - val_accuracy: 0.9336\n",
      "Epoch 20/20\n",
      "32/32 [==============================] - 0s 14ms/step - loss: 0.1354 - accuracy: 0.9453 - val_loss: 0.1459 - val_accuracy: 0.9492\n",
      "10/10 [==============================] - 0s 5ms/step - loss: 0.1790 - accuracy: 0.9438\n",
      "Test Loss: 0.1790248453617096, Test Accuracy: 0.9437500238418579\n"
     ]
    }
   ],
   "source": [
    "model.compile(optimizer='adam', loss='binary_crossentropy', metrics=['accuracy'])\n",
    "history = model.fit(X_train, y_train, epochs=20, batch_size=32, validation_split=0.2)\n",
    "test_loss, test_accuracy = model.evaluate(X_val, y_val)\n",
    "print(f\"Test Loss: {test_loss}, Test Accuracy: {test_accuracy}\")"
   ]
  },
  {
   "cell_type": "markdown",
   "id": "ef765315",
   "metadata": {
    "papermill": {
     "duration": 0.181664,
     "end_time": "2024-07-20T06:11:20.643683",
     "exception": false,
     "start_time": "2024-07-20T06:11:20.462019",
     "status": "completed"
    },
    "tags": []
   },
   "source": [
    "**Plot training history**"
   ]
  },
  {
   "cell_type": "code",
   "execution_count": 8,
   "id": "1f40e66b",
   "metadata": {
    "execution": {
     "iopub.execute_input": "2024-07-20T06:11:21.016290Z",
     "iopub.status.busy": "2024-07-20T06:11:21.015674Z",
     "iopub.status.idle": "2024-07-20T06:11:21.403827Z",
     "shell.execute_reply": "2024-07-20T06:11:21.402917Z"
    },
    "papermill": {
     "duration": 0.579956,
     "end_time": "2024-07-20T06:11:21.405884",
     "exception": false,
     "start_time": "2024-07-20T06:11:20.825928",
     "status": "completed"
    },
    "tags": []
   },
   "outputs": [
    {
     "data": {
      "image/png": "[encoded data removed]",
      "text/plain": [
       "<Figure size 640x480 with 1 Axes>"
      ]
     },
     "metadata": {},
     "output_type": "display_data"
    }
   ],
   "source": [
    "plt.plot(history.history['accuracy'], label='accuracy')\n",
    "plt.plot(history.history['val_accuracy'], label='val_accuracy')\n",
    "plt.plot(history.history['loss'], label='loss')\n",
    "plt.plot(history.history['val_loss'], label='val_loss')\n",
    "plt.xlabel('Epoch')\n",
    "plt.ylabel('Value')\n",
    "plt.legend(loc='lower right')\n",
    "plt.title('Training History')\n",
    "plt.show()"
   ]
  },
  {
   "cell_type": "code",
   "execution_count": null,
   "id": "51d101fa",
   "metadata": {
    "papermill": {
     "duration": 0.235377,
     "end_time": "2024-07-20T06:11:21.823275",
     "exception": false,
     "start_time": "2024-07-20T06:11:21.587898",
     "status": "completed"
    },
    "tags": []
   },
   "outputs": [],
   "source": []
  },
  {
   "cell_type": "code",
   "execution_count": null,
   "id": "26435564",
   "metadata": {},
   "outputs": [],
   "source": []
  },
  {
   "cell_type": "code",
   "execution_count": null,
   "id": "08d7571a",
   "metadata": {},
   "outputs": [],
   "source": [
    "    "
   ]
  }
 ],
 "metadata": {
  "kaggle": {
   "accelerator": "nvidiaTeslaT4",
   "dataSources": [
    {
     "datasetId": 595343,
     "sourceId": 1071350,
     "sourceType": "datasetVersion"
    },
    {
     "datasetId": 3120670,
     "sourceId": 5380830,
     "sourceType": "datasetVersion"
    }
   ],
   "dockerImageVersionId": 30528,
   "isGpuEnabled": true,
   "isInternetEnabled": true,
   "language": "python",
   "sourceType": "notebook"
  },
  "kernelspec": {
   "display_name": "Python 3 (ipykernel)",
   "language": "python",
   "name": "python3"
  },
  "language_info": {
   "codemirror_mode": {
    "name": "ipython",
    "version": 3
   },
   "file_extension": ".py",
   "mimetype": "text/x-python",
   "name": "python",
   "nbconvert_exporter": "python",
   "pygments_lexer": "ipython3",
   "version": "3.10.1"
  },
  "papermill": {
   "default_parameters": {},
   "duration": 2423.89557,
   "end_time": "2024-07-20T06:11:25.298363",
   "environment_variables": {},
   "exception": null,
   "input_path": "__notebook__.ipynb",
   "output_path": "__notebook__.ipynb",
   "parameters": {},
   "start_time": "2024-07-20T05:31:01.402793",
   "version": "2.4.0"
  }
 },
 "nbformat": 4,
 "nbformat_minor": 5
}
